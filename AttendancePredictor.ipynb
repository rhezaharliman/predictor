{
 "cells": [
  {
   "cell_type": "code",
   "execution_count": 1,
   "metadata": {},
   "outputs": [
    {
     "name": "stdout",
     "output_type": "stream",
     "text": [
      "FileRead Done!\n",
      "(33473, 4)\n"
     ]
    }
   ],
   "source": [
    "# Load CSV Data\n",
    "import csv\n",
    "import numpy as np\n",
    "\n",
    "from sklearn.model_selection import train_test_split\n",
    "from sklearn import svm\n",
    "\n",
    "\n",
    "FILEPATH = 'history.csv'\n",
    "HEADERS = ['member_id', 'venue_id', 'day_of_week', 'date', 'month', 'attendance']\n",
    "\n",
    "FEATURES = {'member_id': int, 'venue_id': int, 'date': int, 'month': int}\n",
    "LABEL = 'attendance'\n",
    "\n",
    "X, Y = [], []\n",
    "with open(FILEPATH, 'r') as f:\n",
    "    reader = csv.DictReader(f, fieldnames=HEADERS)\n",
    "    next(reader)\n",
    "    X, Y = zip(*[\n",
    "        ([typ(row[key]) for key, typ in FEATURES.items()], row.get(LABEL))\n",
    "        for row in reader\n",
    "    ])\n",
    "\n",
    "print(\"FileRead Done!\")\n",
    "print(np.array(X).shape)"
   ]
  },
  {
   "cell_type": "code",
   "execution_count": 2,
   "metadata": {},
   "outputs": [],
   "source": [
    "# split the data\n",
    "X_train, X_test, Y_train, Y_test = train_test_split(X, Y, test_size=0.3)"
   ]
  },
  {
   "cell_type": "code",
   "execution_count": 3,
   "metadata": {
    "scrolled": true
   },
   "outputs": [],
   "source": [
    "# Y_train = [int(n) for n in Y_test if n != \"\"]\n",
    "# There is blank label at Y_train(20019)\n",
    "def to_int(list):\n",
    "    temp = []\n",
    "    for n in list:\n",
    "        if n == \"\":\n",
    "            n = 0\n",
    "        temp.append(int(n))\n",
    "    return temp\n",
    "Y_train = to_int(Y_train)\n",
    "Y_test = to_int(Y_test)"
   ]
  },
  {
   "cell_type": "markdown",
   "metadata": {},
   "source": [
    "# Descirbing important feature\n",
    "We got 5 columns\n",
    "'member_id', 'venue_id', 'day_of_week', 'date', 'month', 'attendance'\n",
    "we might merge the 'date' and 'month' into single set"
   ]
  },
  {
   "cell_type": "code",
   "execution_count": 4,
   "metadata": {},
   "outputs": [],
   "source": [
    "#Visualization\n",
    "import matplotlib as mpl\n",
    "import matplotlib.pyplot as plt\n",
    "import matplotlib.pylab as pylab\n",
    "import seaborn as sns\n",
    "from pandas.tools.plotting import scatter_matrix"
   ]
  },
  {
   "cell_type": "code",
   "execution_count": 5,
   "metadata": {},
   "outputs": [],
   "source": [
    "%matplotlib inline"
   ]
  },
  {
   "cell_type": "code",
   "execution_count": 6,
   "metadata": {},
   "outputs": [],
   "source": [
    "# Load data using Panda for easy visualization\n",
    "import pandas as pd\n",
    "\n",
    "raw_data = pd.read_csv('history.csv')"
   ]
  },
  {
   "cell_type": "code",
   "execution_count": 7,
   "metadata": {},
   "outputs": [
    {
     "name": "stdout",
     "output_type": "stream",
     "text": [
      "<class 'pandas.core.frame.DataFrame'>\n",
      "RangeIndex: 33473 entries, 0 to 33472\n",
      "Data columns (total 6 columns):\n",
      "member_id      33473 non-null int64\n",
      "venue_id       33473 non-null int64\n",
      "day_of_week    33473 non-null int64\n",
      "date           33473 non-null int64\n",
      "month          33473 non-null int64\n",
      "attendance     33472 non-null float64\n",
      "dtypes: float64(1), int64(5)\n",
      "memory usage: 1.5 MB\n"
     ]
    }
   ],
   "source": [
    "raw_data.info()"
   ]
  },
  {
   "cell_type": "code",
   "execution_count": 9,
   "metadata": {},
   "outputs": [
    {
     "data": {
      "text/plain": [
       "(33473, 6)"
      ]
     },
     "execution_count": 9,
     "metadata": {},
     "output_type": "execute_result"
    }
   ],
   "source": [
    "raw_data.shape"
   ]
  },
  {
   "cell_type": "code",
   "execution_count": 10,
   "metadata": {},
   "outputs": [
    {
     "data": {
      "text/html": [
       "<div>\n",
       "<style scoped>\n",
       "    .dataframe tbody tr th:only-of-type {\n",
       "        vertical-align: middle;\n",
       "    }\n",
       "\n",
       "    .dataframe tbody tr th {\n",
       "        vertical-align: top;\n",
       "    }\n",
       "\n",
       "    .dataframe thead th {\n",
       "        text-align: right;\n",
       "    }\n",
       "</style>\n",
       "<table border=\"1\" class=\"dataframe\">\n",
       "  <thead>\n",
       "    <tr style=\"text-align: right;\">\n",
       "      <th></th>\n",
       "      <th>member_id</th>\n",
       "      <th>venue_id</th>\n",
       "      <th>day_of_week</th>\n",
       "      <th>date</th>\n",
       "      <th>month</th>\n",
       "      <th>attendance</th>\n",
       "    </tr>\n",
       "  </thead>\n",
       "  <tbody>\n",
       "    <tr>\n",
       "      <th>16397</th>\n",
       "      <td>134154912</td>\n",
       "      <td>24511188</td>\n",
       "      <td>0</td>\n",
       "      <td>16</td>\n",
       "      <td>10</td>\n",
       "      <td>0.0</td>\n",
       "    </tr>\n",
       "    <tr>\n",
       "      <th>5076</th>\n",
       "      <td>42870312</td>\n",
       "      <td>24511188</td>\n",
       "      <td>0</td>\n",
       "      <td>5</td>\n",
       "      <td>6</td>\n",
       "      <td>0.0</td>\n",
       "    </tr>\n",
       "    <tr>\n",
       "      <th>20378</th>\n",
       "      <td>144547152</td>\n",
       "      <td>24511188</td>\n",
       "      <td>6</td>\n",
       "      <td>1</td>\n",
       "      <td>10</td>\n",
       "      <td>0.0</td>\n",
       "    </tr>\n",
       "    <tr>\n",
       "      <th>17607</th>\n",
       "      <td>137313572</td>\n",
       "      <td>24130924</td>\n",
       "      <td>0</td>\n",
       "      <td>12</td>\n",
       "      <td>3</td>\n",
       "      <td>0.0</td>\n",
       "    </tr>\n",
       "    <tr>\n",
       "      <th>1418</th>\n",
       "      <td>10884001</td>\n",
       "      <td>24511188</td>\n",
       "      <td>5</td>\n",
       "      <td>13</td>\n",
       "      <td>5</td>\n",
       "      <td>0.0</td>\n",
       "    </tr>\n",
       "    <tr>\n",
       "      <th>13683</th>\n",
       "      <td>121057222</td>\n",
       "      <td>24511188</td>\n",
       "      <td>0</td>\n",
       "      <td>15</td>\n",
       "      <td>1</td>\n",
       "      <td>0.0</td>\n",
       "    </tr>\n",
       "    <tr>\n",
       "      <th>2609</th>\n",
       "      <td>13438334</td>\n",
       "      <td>24511188</td>\n",
       "      <td>0</td>\n",
       "      <td>10</td>\n",
       "      <td>9</td>\n",
       "      <td>0.0</td>\n",
       "    </tr>\n",
       "    <tr>\n",
       "      <th>13076</th>\n",
       "      <td>114162382</td>\n",
       "      <td>24511188</td>\n",
       "      <td>0</td>\n",
       "      <td>16</td>\n",
       "      <td>10</td>\n",
       "      <td>0.0</td>\n",
       "    </tr>\n",
       "    <tr>\n",
       "      <th>20855</th>\n",
       "      <td>148282942</td>\n",
       "      <td>24511188</td>\n",
       "      <td>5</td>\n",
       "      <td>15</td>\n",
       "      <td>7</td>\n",
       "      <td>0.0</td>\n",
       "    </tr>\n",
       "    <tr>\n",
       "      <th>29357</th>\n",
       "      <td>182780146</td>\n",
       "      <td>24995655</td>\n",
       "      <td>6</td>\n",
       "      <td>3</td>\n",
       "      <td>6</td>\n",
       "      <td>0.0</td>\n",
       "    </tr>\n",
       "  </tbody>\n",
       "</table>\n",
       "</div>"
      ],
      "text/plain": [
       "       member_id  venue_id  day_of_week  date  month  attendance\n",
       "16397  134154912  24511188            0    16     10         0.0\n",
       "5076    42870312  24511188            0     5      6         0.0\n",
       "20378  144547152  24511188            6     1     10         0.0\n",
       "17607  137313572  24130924            0    12      3         0.0\n",
       "1418    10884001  24511188            5    13      5         0.0\n",
       "13683  121057222  24511188            0    15      1         0.0\n",
       "2609    13438334  24511188            0    10      9         0.0\n",
       "13076  114162382  24511188            0    16     10         0.0\n",
       "20855  148282942  24511188            5    15      7         0.0\n",
       "29357  182780146  24995655            6     3      6         0.0"
      ]
     },
     "execution_count": 10,
     "metadata": {},
     "output_type": "execute_result"
    }
   ],
   "source": [
    "raw_data.sample(10)"
   ]
  },
  {
   "cell_type": "code",
   "execution_count": 11,
   "metadata": {},
   "outputs": [
    {
     "data": {
      "text/html": [
       "<div>\n",
       "<style scoped>\n",
       "    .dataframe tbody tr th:only-of-type {\n",
       "        vertical-align: middle;\n",
       "    }\n",
       "\n",
       "    .dataframe tbody tr th {\n",
       "        vertical-align: top;\n",
       "    }\n",
       "\n",
       "    .dataframe thead th {\n",
       "        text-align: right;\n",
       "    }\n",
       "</style>\n",
       "<table border=\"1\" class=\"dataframe\">\n",
       "  <thead>\n",
       "    <tr style=\"text-align: right;\">\n",
       "      <th></th>\n",
       "      <th>member_id</th>\n",
       "      <th>venue_id</th>\n",
       "      <th>day_of_week</th>\n",
       "      <th>date</th>\n",
       "      <th>month</th>\n",
       "      <th>attendance</th>\n",
       "    </tr>\n",
       "  </thead>\n",
       "  <tbody>\n",
       "    <tr>\n",
       "      <th>count</th>\n",
       "      <td>3.347300e+04</td>\n",
       "      <td>3.347300e+04</td>\n",
       "      <td>33473.000000</td>\n",
       "      <td>33473.000000</td>\n",
       "      <td>33473.000000</td>\n",
       "      <td>33472.000000</td>\n",
       "    </tr>\n",
       "    <tr>\n",
       "      <th>mean</th>\n",
       "      <td>1.181807e+08</td>\n",
       "      <td>2.445706e+07</td>\n",
       "      <td>2.299585</td>\n",
       "      <td>15.078481</td>\n",
       "      <td>6.383593</td>\n",
       "      <td>0.041079</td>\n",
       "    </tr>\n",
       "    <tr>\n",
       "      <th>std</th>\n",
       "      <td>5.766396e+07</td>\n",
       "      <td>3.334405e+05</td>\n",
       "      <td>2.733479</td>\n",
       "      <td>8.307373</td>\n",
       "      <td>3.172411</td>\n",
       "      <td>0.198476</td>\n",
       "    </tr>\n",
       "    <tr>\n",
       "      <th>min</th>\n",
       "      <td>6.242850e+05</td>\n",
       "      <td>2.382466e+07</td>\n",
       "      <td>0.000000</td>\n",
       "      <td>1.000000</td>\n",
       "      <td>1.000000</td>\n",
       "      <td>0.000000</td>\n",
       "    </tr>\n",
       "    <tr>\n",
       "      <th>25%</th>\n",
       "      <td>7.274421e+07</td>\n",
       "      <td>2.413092e+07</td>\n",
       "      <td>0.000000</td>\n",
       "      <td>8.000000</td>\n",
       "      <td>4.000000</td>\n",
       "      <td>0.000000</td>\n",
       "    </tr>\n",
       "    <tr>\n",
       "      <th>50%</th>\n",
       "      <td>1.352344e+08</td>\n",
       "      <td>2.451119e+07</td>\n",
       "      <td>0.000000</td>\n",
       "      <td>16.000000</td>\n",
       "      <td>6.000000</td>\n",
       "      <td>0.000000</td>\n",
       "    </tr>\n",
       "    <tr>\n",
       "      <th>75%</th>\n",
       "      <td>1.726985e+08</td>\n",
       "      <td>2.451119e+07</td>\n",
       "      <td>6.000000</td>\n",
       "      <td>22.000000</td>\n",
       "      <td>9.000000</td>\n",
       "      <td>0.000000</td>\n",
       "    </tr>\n",
       "    <tr>\n",
       "      <th>max</th>\n",
       "      <td>1.846747e+08</td>\n",
       "      <td>2.529235e+07</td>\n",
       "      <td>6.000000</td>\n",
       "      <td>31.000000</td>\n",
       "      <td>12.000000</td>\n",
       "      <td>1.000000</td>\n",
       "    </tr>\n",
       "  </tbody>\n",
       "</table>\n",
       "</div>"
      ],
      "text/plain": [
       "          member_id      venue_id   day_of_week          date         month  \\\n",
       "count  3.347300e+04  3.347300e+04  33473.000000  33473.000000  33473.000000   \n",
       "mean   1.181807e+08  2.445706e+07      2.299585     15.078481      6.383593   \n",
       "std    5.766396e+07  3.334405e+05      2.733479      8.307373      3.172411   \n",
       "min    6.242850e+05  2.382466e+07      0.000000      1.000000      1.000000   \n",
       "25%    7.274421e+07  2.413092e+07      0.000000      8.000000      4.000000   \n",
       "50%    1.352344e+08  2.451119e+07      0.000000     16.000000      6.000000   \n",
       "75%    1.726985e+08  2.451119e+07      6.000000     22.000000      9.000000   \n",
       "max    1.846747e+08  2.529235e+07      6.000000     31.000000     12.000000   \n",
       "\n",
       "         attendance  \n",
       "count  33472.000000  \n",
       "mean       0.041079  \n",
       "std        0.198476  \n",
       "min        0.000000  \n",
       "25%        0.000000  \n",
       "50%        0.000000  \n",
       "75%        0.000000  \n",
       "max        1.000000  "
      ]
     },
     "execution_count": 11,
     "metadata": {},
     "output_type": "execute_result"
    }
   ],
   "source": [
    "raw_data.describe()"
   ]
  },
  {
   "cell_type": "code",
   "execution_count": 12,
   "metadata": {},
   "outputs": [
    {
     "data": {
      "text/plain": [
       "143318852    166\n",
       "57775672     166\n",
       "135982742    166\n",
       "182490393    166\n",
       "72744212     166\n",
       "60341372     166\n",
       "11866825     166\n",
       "47655342     166\n",
       "158214542    166\n",
       "61991062     166\n",
       "141400152    166\n",
       "129386402    166\n",
       "155833392    166\n",
       "8893278      166\n",
       "16898961     166\n",
       "156147902    166\n",
       "130764512    166\n",
       "168500682    166\n",
       "112295142    166\n",
       "160177162    166\n",
       "138505092    166\n",
       "96222062     166\n",
       "183194403    166\n",
       "182438032    166\n",
       "183168886    166\n",
       "134116642    166\n",
       "182930853    166\n",
       "42870312     166\n",
       "131304382    166\n",
       "94006082     166\n",
       "            ... \n",
       "135234432    166\n",
       "66032482     166\n",
       "182944352    166\n",
       "12674691     166\n",
       "113404702    166\n",
       "123480982    166\n",
       "142974532    166\n",
       "182691175    166\n",
       "184538349    166\n",
       "35150972     166\n",
       "79330232     166\n",
       "133970832    166\n",
       "80157172     166\n",
       "183048532    166\n",
       "182706093    166\n",
       "160774032    166\n",
       "10094358     166\n",
       "37140032     166\n",
       "17489101     166\n",
       "105783602    166\n",
       "131493592    166\n",
       "182692576    166\n",
       "56781112     166\n",
       "88397742     166\n",
       "136430412    166\n",
       "74055732     166\n",
       "183435212    166\n",
       "155316142    166\n",
       "125870292    166\n",
       "184674667    107\n",
       "Name: member_id, Length: 202, dtype: int64"
      ]
     },
     "execution_count": 12,
     "metadata": {},
     "output_type": "execute_result"
    }
   ],
   "source": [
    "raw_data[\"member_id\"].value_counts()"
   ]
  },
  {
   "cell_type": "code",
   "execution_count": 13,
   "metadata": {},
   "outputs": [
    {
     "data": {
      "text/plain": [
       "24511188    13103\n",
       "24130924     8888\n",
       "24995655     3417\n",
       "24132735     3030\n",
       "25072251     2412\n",
       "24446531      808\n",
       "23824656      606\n",
       "24389241      404\n",
       "24130927      202\n",
       "25292352      201\n",
       "24546934      201\n",
       "25187720      201\n",
       "Name: venue_id, dtype: int64"
      ]
     },
     "execution_count": 13,
     "metadata": {},
     "output_type": "execute_result"
    }
   ],
   "source": [
    "raw_data[\"venue_id\"].value_counts()"
   ]
  },
  {
   "cell_type": "markdown",
   "metadata": {},
   "source": [
    "# Cleaning the samples"
   ]
  },
  {
   "cell_type": "code",
   "execution_count": 5,
   "metadata": {},
   "outputs": [
    {
     "name": "stderr",
     "output_type": "stream",
     "text": [
      "Using TensorFlow backend.\n"
     ]
    }
   ],
   "source": [
    "from keras.utils import to_categorical\n",
    "\n",
    "num_classes = 2\n",
    "\n",
    "Y_train_categorical = to_categorical(Y_train, num_classes)\n",
    "Y_test_categorical = to_categorical(Y_test, num_classes)"
   ]
  },
  {
   "cell_type": "code",
   "execution_count": 6,
   "metadata": {},
   "outputs": [
    {
     "name": "stdout",
     "output_type": "stream",
     "text": [
      "(23431, 4)\n"
     ]
    }
   ],
   "source": [
    "print(np.array(X_train).shape)"
   ]
  },
  {
   "cell_type": "code",
   "execution_count": 17,
   "metadata": {},
   "outputs": [
    {
     "name": "stdout",
     "output_type": "stream",
     "text": [
      "_________________________________________________________________\n",
      "Layer (type)                 Output Shape              Param #   \n",
      "=================================================================\n",
      "dense_7 (Dense)              (None, 60)                300       \n",
      "_________________________________________________________________\n",
      "dense_8 (Dense)              (None, 2)                 122       \n",
      "=================================================================\n",
      "Total params: 422.0\n",
      "Trainable params: 422\n",
      "Non-trainable params: 0.0\n",
      "_________________________________________________________________\n"
     ]
    }
   ],
   "source": [
    "from keras.models import Sequential\n",
    "from keras.layers import Dense\n",
    "\n",
    "# create model\n",
    "model = Sequential()\n",
    "model.add(Dense(60, input_dim=4, kernel_initializer='normal', activation='relu'))\n",
    "model.add(Dense(2, kernel_initializer='normal', activation='sigmoid'))\n",
    "model.compile(loss='binary_crossentropy', optimizer='adam', metrics=['accuracy'])\n",
    "model.summary()"
   ]
  },
  {
   "cell_type": "code",
   "execution_count": 18,
   "metadata": {
    "collapsed": true
   },
   "outputs": [],
   "source": [
    "from keras.utils import plot_model\n",
    "plot_model(model, show_shapes=True, to_file=\"attendance_predictor.png\")"
   ]
  },
  {
   "cell_type": "code",
   "execution_count": 19,
   "metadata": {},
   "outputs": [
    {
     "name": "stdout",
     "output_type": "stream",
     "text": [
      "Train on 23431 samples, validate on 10042 samples\n",
      "Epoch 1/10\n",
      "23431/23431 [==============================] - 2s - loss: 0.6670 - acc: 0.9584 - val_loss: 0.6385 - val_acc: 0.9602\n",
      "Epoch 2/10\n",
      "23431/23431 [==============================] - 1s - loss: 0.6670 - acc: 0.9584 - val_loss: 0.6385 - val_acc: 0.9602\n",
      "Epoch 3/10\n",
      "23431/23431 [==============================] - 1s - loss: 0.6670 - acc: 0.9584 - val_loss: 0.6385 - val_acc: 0.9602\n",
      "Epoch 4/10\n",
      "23431/23431 [==============================] - 1s - loss: 0.6670 - acc: 0.9584 - val_loss: 0.6385 - val_acc: 0.9602\n",
      "Epoch 5/10\n",
      "23431/23431 [==============================] - 1s - loss: 0.6670 - acc: 0.9584 - val_loss: 0.6385 - val_acc: 0.9602\n",
      "Epoch 6/10\n",
      "23431/23431 [==============================] - 1s - loss: 0.6670 - acc: 0.9584 - val_loss: 0.6385 - val_acc: 0.9602\n",
      "Epoch 7/10\n",
      "23431/23431 [==============================] - 1s - loss: 0.6670 - acc: 0.9584 - val_loss: 0.6385 - val_acc: 0.9602\n",
      "Epoch 8/10\n",
      "23431/23431 [==============================] - 1s - loss: 0.6670 - acc: 0.9584 - val_loss: 0.6385 - val_acc: 0.9602\n",
      "Epoch 9/10\n",
      "23431/23431 [==============================] - 2s - loss: 0.6670 - acc: 0.9584 - val_loss: 0.6385 - val_acc: 0.9602\n",
      "Epoch 10/10\n",
      "23431/23431 [==============================] - 1s - loss: 0.6670 - acc: 0.9584 - val_loss: 0.6385 - val_acc: 0.9602\n"
     ]
    }
   ],
   "source": [
    "history = model.fit(X_train, Y_train_categorical, batch_size=32, epochs=10, verbose=1, callbacks=None,\n",
    "    validation_data=(X_test, Y_test_categorical), shuffle=True)"
   ]
  },
  {
   "cell_type": "code",
   "execution_count": 23,
   "metadata": {},
   "outputs": [
    {
     "data": {
      "text/plain": [
       "array([[ 1.,  0.]], dtype=float32)"
      ]
     },
     "execution_count": 23,
     "metadata": {},
     "output_type": "execute_result"
    }
   ],
   "source": [
    "x = np.array([[624285, 25072259, 2, 7]])\n",
    "model.predict(x, batch_size=32, verbose=0)"
   ]
  }
 ],
 "metadata": {
  "kernelspec": {
   "display_name": "Python 3",
   "language": "python",
   "name": "python3"
  },
  "language_info": {
   "codemirror_mode": {
    "name": "ipython",
    "version": 3
   },
   "file_extension": ".py",
   "mimetype": "text/x-python",
   "name": "python",
   "nbconvert_exporter": "python",
   "pygments_lexer": "ipython3",
   "version": "3.6.3"
  }
 },
 "nbformat": 4,
 "nbformat_minor": 2
}
